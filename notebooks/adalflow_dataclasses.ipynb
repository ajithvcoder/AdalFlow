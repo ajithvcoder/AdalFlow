{
  "nbformat": 4,
  "nbformat_minor": 0,
  "metadata": {
    "colab": {
      "provenance": [],
      "collapsed_sections": [
        "nqe-vxB1BCux",
        "NGE70aZ8BLuf"
      ]
    },
    "kernelspec": {
      "name": "python3",
      "display_name": "Python 3"
    },
    "language_info": {
      "name": "python"
    }
  },
  "cells": [
    {
      "cell_type": "markdown",
      "source": [
        "<a target=\"_blank\" href=\"https://colab.research.google.com/github.com/SylphAI-Inc/AdalFlow/blob/main/notebooks/adalflow_dataclasses.ipynb\">\n",
        "  <img src=\"https://colab.research.google.com/assets/colab-badge.svg\" alt=\"Open In Colab\"/>\n",
        "</a>\n"
      ],
      "metadata": {
        "id": "hGLYrUwBmvUD"
      }
    },
    {
      "cell_type": "markdown",
      "source": [
        "# 🤗 Welcome to AdalFlow!\n",
        "## The PyTorch library to auto-optimize any LLM task pipelines\n",
        "\n",
        "Thanks for trying us out, we're here to provide you with the best LLM application development experience you can dream of 😊 any questions or concerns you may have, [come talk to us on discord,](https://discord.gg/ezzszrRZvT) we're always here to help! ⭐ <i>Star us on <a href=\"https://github.com/SylphAI-Inc/AdalFlow\">Github</a> </i> ⭐\n",
        "\n",
        "\n",
        "# Quick Links\n",
        "\n",
        "Github repo: https://github.com/SylphAI-Inc/AdalFlow\n",
        "\n",
        "Full Tutorials: https://adalflow.sylph.ai/index.html#.\n",
        "\n",
        "Deep dive on each API: check out the [developer notes](https://adalflow.sylph.ai/tutorials/index.html).\n",
        "\n",
        "Common use cases along with the auto-optimization:  check out [Use cases](https://adalflow.sylph.ai/use_cases/index.html).\n",
        "\n",
        "# Outline\n",
        "\n",
        "This is a quick introduction of what AdalFlow is capable of. We will cover:\n",
        "\n",
        "* How to use adalflow dataclass\n",
        "* How to do nested dataclass with optional fields\n",
        "\n",
        "**Next: Try our [auto-optimization](https://colab.research.google.com/drive/1n3mHUWekTEYHiBdYBTw43TKlPN41A9za?usp=sharing)**\n",
        "\n",
        "\n",
        "# Installation\n",
        "\n",
        "1. Use `pip` to install the `adalflow` Python package. We will need `openai`, `groq`, and `faiss`(cpu version) from the extra packages.\n",
        "\n",
        "  ```bash\n",
        "  pip install adalflow[openai,groq,faiss-cpu]\n",
        "  ```\n",
        "2. Setup  `openai` and `groq` API key in the environment variables"
      ],
      "metadata": {
        "id": "gHK6HFngl6iP"
      }
    },
    {
      "cell_type": "markdown",
      "source": [
        "### Install adalflow"
      ],
      "metadata": {
        "id": "nqe-vxB1BCux"
      }
    },
    {
      "cell_type": "code",
      "execution_count": 30,
      "metadata": {
        "id": "ZaaevxNH9JMQ"
      },
      "outputs": [],
      "source": [
        "# Install adalflow with necessary dependencies\n",
        "from IPython.display import clear_output\n",
        "\n",
        "!pip install -U adalflow[openai,groq,faiss-cpu]\n",
        "\n",
        "clear_output()"
      ]
    },
    {
      "cell_type": "markdown",
      "source": [
        "### Set Environment Variables\n",
        "\n",
        "Note: Enter your api keys in below cell"
      ],
      "metadata": {
        "id": "NGE70aZ8BLuf"
      }
    },
    {
      "cell_type": "code",
      "source": [
        "%%writefile .env\n",
        "\n",
        "OPENAI_API_KEY=\"PASTE-OPENAI_API_KEY_HERE\"\n",
        "GROQ_API_KEY=\"PASTE-GROQ_API_KEY-HERE\""
      ],
      "metadata": {
        "colab": {
          "base_uri": "https://localhost:8080/"
        },
        "id": "j2xmGr_99YDq",
        "outputId": "c3d1e0b7-9072-412e-fed1-4578404357be"
      },
      "execution_count": null,
      "outputs": [
        {
          "output_type": "stream",
          "name": "stdout",
          "text": [
            "Writing .env\n"
          ]
        }
      ]
    },
    {
      "cell_type": "markdown",
      "source": [
        "### Import necessary libraries"
      ],
      "metadata": {
        "id": "ZxBkm77uBZpl"
      }
    },
    {
      "cell_type": "code",
      "source": [
        "# Import required libraries\n",
        "from IPython.display import clear_output\n",
        "from dataclasses import dataclass, field\n",
        "from typing import List, Dict, Optional\n",
        "import adalflow as adal\n",
        "from adalflow.components.model_client import GroqAPIClient\n",
        "from adalflow.utils import setup_env"
      ],
      "metadata": {
        "id": "wOAiKg899Z2u"
      },
      "execution_count": null,
      "outputs": []
    },
    {
      "cell_type": "code",
      "source": [
        "# Load environment variables - Make sure to have OPENAI_API_KEY in .env file and .env is present in current folder\n",
        "setup_env(\".env\")"
      ],
      "metadata": {
        "id": "bTzgyp6S9bnH"
      },
      "execution_count": null,
      "outputs": []
    },
    {
      "cell_type": "markdown",
      "source": [
        "### Basic Vannila Example"
      ],
      "metadata": {
        "id": "MBW5viOG9hM8"
      }
    },
    {
      "cell_type": "code",
      "source": [
        "# Define the output structure using dataclass\n",
        "@dataclass\n",
        "class BasicQAOutput(adal.DataClass):\n",
        "    explanation: str = field(\n",
        "        metadata={\"desc\": \"A brief explanation of the concept in one sentence.\"}\n",
        "    )\n",
        "    example: str = field(\n",
        "        metadata={\"desc\": \"An example of the concept in a sentence.\"}\n",
        "    )\n",
        "    # Control output fields order\n",
        "    __output_fields__ = [\"explanation\", \"example\"]\n",
        "\n",
        "# Define the template using jinja2 syntax\n",
        "qa_template = r\"\"\"<SYS>\n",
        "You are a helpful assistant.\n",
        "<OUTPUT_FORMAT>\n",
        "{{output_format_str}}\n",
        "</OUTPUT_FORMAT>\n",
        "</SYS>\n",
        "User: {{input_str}}\"\"\""
      ],
      "metadata": {
        "id": "YA4pAIek9ewc"
      },
      "execution_count": null,
      "outputs": []
    },
    {
      "cell_type": "code",
      "source": [
        "# Define the QA component\n",
        "class QA(adal.Component):\n",
        "    def __init__(self, model_client: adal.ModelClient, model_kwargs: Dict):\n",
        "        super().__init__()\n",
        "\n",
        "        # Initialize the parser with the output dataclass\n",
        "        parser = adal.DataClassParser(data_class=BasicQAOutput, return_data_class=True)\n",
        "\n",
        "        # Set up the generator with model, template, and parser\n",
        "        self.generator = adal.Generator(\n",
        "            model_client=model_client,\n",
        "            model_kwargs=model_kwargs,\n",
        "            template=qa_template,\n",
        "            prompt_kwargs={\"output_format_str\": parser.get_output_format_str()},\n",
        "            output_processors=parser,\n",
        "        )\n",
        "\n",
        "    def call(self, query: str):\n",
        "        \"\"\"Synchronous call to generate response\"\"\"\n",
        "        return self.generator.call({\"input_str\": query})\n",
        "\n",
        "    async def acall(self, query: str):\n",
        "        \"\"\"Asynchronous call to generate response\"\"\"\n",
        "        return await self.generator.acall({\"input_str\": query})\n"
      ],
      "metadata": {
        "id": "x4__jnbP9luN"
      },
      "execution_count": null,
      "outputs": []
    },
    {
      "cell_type": "code",
      "source": [
        "# Example usage\n",
        "def run_basic_example():\n",
        "    # Instantiate the QA class with Groq model\n",
        "    qa = QA(\n",
        "        model_client=GroqAPIClient(),\n",
        "        model_kwargs={\"model\": \"llama3-8b-8192\"},\n",
        "    )\n",
        "\n",
        "    # Print the QA instance details\n",
        "    print(qa)\n",
        "\n",
        "    # Test the QA system\n",
        "    response = qa(\"What is LLM?\")\n",
        "    print(\"\\nResponse:\")\n",
        "    print(response)\n",
        "    print(f\"Explanation: {response.data.explanation}\")\n",
        "    print(f\"Example: {response.data.example}\")"
      ],
      "metadata": {
        "id": "TVi3rGvs9nte"
      },
      "execution_count": null,
      "outputs": []
    },
    {
      "cell_type": "markdown",
      "source": [
        "### Example 1 - Movie analysis data class"
      ],
      "metadata": {
        "id": "1n7edLQ19ql8"
      }
    },
    {
      "cell_type": "code",
      "source": [
        "# 1. Basic DataClass with different field types\n",
        "@dataclass\n",
        "class MovieReview(adal.DataClass):\n",
        "    title: str = field(\n",
        "        metadata={\"desc\": \"The title of the movie\"}\n",
        "    )\n",
        "    rating: float = field(\n",
        "        metadata={\n",
        "            \"desc\": \"Rating from 1.0 to 10.0\",\n",
        "            \"min\": 1.0,\n",
        "            \"max\": 10.0\n",
        "        }\n",
        "    )\n",
        "    pros: List[str] = field(\n",
        "        default_factory=list,\n",
        "        metadata={\"desc\": \"List of positive points about the movie\"}\n",
        "    )\n",
        "    cons: List[str] = field(\n",
        "        default_factory=list,\n",
        "        metadata={\"desc\": \"List of negative points about the movie\"}\n",
        "    )\n",
        "\n",
        "    __output_fields__ = [\"title\", \"rating\", \"pros\", \"cons\"]\n"
      ],
      "metadata": {
        "id": "5Arp4-Dq9u49"
      },
      "execution_count": null,
      "outputs": []
    },
    {
      "cell_type": "code",
      "source": [
        "\n",
        "@dataclass\n",
        "class Actor(adal.DataClass):\n",
        "    name: str = field(metadata={\"desc\": \"Actor's full name\"})\n",
        "    role: str = field(metadata={\"desc\": \"Character name in the movie\"})"
      ],
      "metadata": {
        "id": "VLbRUzXg9yP0"
      },
      "execution_count": null,
      "outputs": []
    },
    {
      "cell_type": "code",
      "source": [
        "from adalflow.core.functional import custom_asdict, dataclass_obj_from_dict"
      ],
      "metadata": {
        "id": "u4u98LMm9z_i"
      },
      "execution_count": null,
      "outputs": []
    },
    {
      "cell_type": "code",
      "source": [
        "# 2. Nested DataClass example\n",
        "\n",
        "@dataclass\n",
        "class DetailedMovieReview(adal.DataClass):\n",
        "    basic_review: MovieReview\n",
        "    cast: List[Actor] = field(\n",
        "        default_factory=list,\n",
        "        metadata={\"desc\": \"List of main actors in the movie\"}\n",
        "    )\n",
        "    genre: List[str] = field(\n",
        "        default_factory=list,\n",
        "        metadata={\"desc\": \"List of genres for the movie\"}\n",
        "    )\n",
        "    recommend: bool = field(\n",
        "        default_factory=str,\n",
        "        metadata={\"desc\": \"Whether you would recommend this movie\"}\n",
        "    )\n",
        "\n",
        "    __output_fields__ = [\"basic_review\", \"cast\", \"genre\", \"recommend\"]"
      ],
      "metadata": {
        "id": "7MUcu0tk91l4"
      },
      "execution_count": null,
      "outputs": []
    },
    {
      "cell_type": "code",
      "source": [
        "# 3. DataClass with optional fields\n",
        "@dataclass\n",
        "class MovieAnalysis(adal.DataClass):\n",
        "    review: DetailedMovieReview\n",
        "    box_office: Optional[float] = field(\n",
        "        default=None,\n",
        "        metadata={\"desc\": \"Box office earnings in millions of dollars\"}\n",
        "    )\n",
        "    awards: Optional[Dict[str, int]] = field(\n",
        "        default=None,\n",
        "        metadata={\"desc\": \"Dictionary of award categories and number of wins\"}\n",
        "    )\n",
        "\n",
        "    __output_fields__ = [\"review\", \"box_office\", \"awards\"]"
      ],
      "metadata": {
        "id": "ekr4v8Xg93en"
      },
      "execution_count": null,
      "outputs": []
    },
    {
      "cell_type": "code",
      "source": [
        "# Example template for movie review\n",
        "movie_review_template = r\"\"\"<SYS>\n",
        "You are a professional movie critic. Analyze the given movie and provide a detailed review.\n",
        "<OUTPUT_FORMAT>\n",
        "{{output_format_str}}\n",
        "</OUTPUT_FORMAT>\n",
        "</SYS>\n",
        "User: Review this movie: {{movie_title}}\"\"\"\n"
      ],
      "metadata": {
        "id": "jq84dbWB95TX"
      },
      "execution_count": null,
      "outputs": []
    },
    {
      "cell_type": "code",
      "source": [
        "# Create the MovieReviewer component with MovieAnalysis data class\n",
        "class MovieReviewer(adal.Component):\n",
        "    def __init__(self, model_client: adal.ModelClient, model_kwargs: Dict):\n",
        "        super().__init__()\n",
        "        self.additional_structure_prompt = \"Dont use 'type' and 'properties' in output directly give as dict\"\n",
        "        parser = adal.DataClassParser(\n",
        "            data_class=MovieAnalysis,\n",
        "            return_data_class=True\n",
        "        )\n",
        "        self.generator = adal.Generator(\n",
        "            model_client=model_client,\n",
        "            model_kwargs=model_kwargs,\n",
        "            template=movie_review_template,\n",
        "            prompt_kwargs={\"output_format_str\": parser.get_output_format_str() + self.additional_structure_prompt},\n",
        "            output_processors=parser,\n",
        "        )\n",
        "\n",
        "    def call(self, movie_title: str):\n",
        "        return self.generator.call({\"movie_title\": movie_title})"
      ],
      "metadata": {
        "id": "QrwnCihM97Oh"
      },
      "execution_count": null,
      "outputs": []
    },
    {
      "cell_type": "code",
      "source": [
        "# Use SongReviewer Class for QA\n",
        "def run_movie_analysis_example():\n",
        "    reviewer = MovieReviewer(\n",
        "        model_client=GroqAPIClient(),\n",
        "        model_kwargs={\"model\": \"llama3-8b-8192\"},\n",
        "    )\n",
        "\n",
        "    # Get a movie review\n",
        "    analysis = reviewer.call(\"The Matrix\")\n",
        "\n",
        "    # Access nested data\n",
        "    print(f\"Movie Title: {analysis.data.review['basic_review']['title']}\")\n",
        "    print(f\"Rating: {analysis.data.review['basic_review']['rating']}\")\n",
        "    print(\"\\nPros:\")\n",
        "    for pro in analysis.data.review[\"basic_review\"][\"pros\"]:\n",
        "        print(f\"- {pro}\")\n",
        "\n",
        "    print(\"\\nCast:\")\n",
        "    for actor in analysis.data.review[\"cast\"]:\n",
        "            print(f\"- {actor['name']} as {actor['role']}\")\n",
        "\n",
        "    if analysis.data.box_office:\n",
        "        print(f\"\\nBox Office: ${analysis.data.box_office} million\")\n",
        "\n",
        "    if analysis.data.awards:\n",
        "        print(\"\\nAwards:\")\n",
        "        for category, count in analysis.data.awards.items():\n",
        "            print(f\"- {category}: {count}\")"
      ],
      "metadata": {
        "id": "WhdiJPfq99qS"
      },
      "execution_count": null,
      "outputs": []
    },
    {
      "cell_type": "code",
      "source": [
        "run_movie_analysis_example()"
      ],
      "metadata": {
        "colab": {
          "base_uri": "https://localhost:8080/"
        },
        "id": "0oxGGjqC9_v1",
        "outputId": "903c6747-2c8a-4264-902e-56c03f8a2dcc"
      },
      "execution_count": null,
      "outputs": [
        {
          "output_type": "stream",
          "name": "stdout",
          "text": [
            "Movie Title: The Matrix\n",
            "Rating: 8.7\n",
            "\n",
            "Pros:\n",
            "- Groundbreaking special effects\n",
            "- Thought-provoking storyline\n",
            "- Innovative action sequences\n",
            "\n",
            "Cast:\n",
            "- Keanu Reeves as Neo\n",
            "- Laurence Fishburne as Morpheus\n",
            "- Carrie-Anne Moss as Trinity\n",
            "\n",
            "Box Office: $463.5 million\n"
          ]
        }
      ]
    },
    {
      "cell_type": "markdown",
      "source": [
        "### Example 2: Song Review\n",
        "Note: Song Review is modified by keeping Example 1 - Movie Review as a reference so that we would know how to use DataClasses for similar purposes"
      ],
      "metadata": {
        "id": "pSTrf8_t-DCx"
      }
    },
    {
      "cell_type": "code",
      "source": [
        "# 1. Basic DataClass with different field types\n",
        "@dataclass\n",
        "class SongReview(adal.DataClass):\n",
        "    title: str = field(\n",
        "        metadata={\"desc\": \"The title of the song\"}\n",
        "    )\n",
        "    album: str = field(\n",
        "        metadata={\"desc\": \"The album of the song\"}\n",
        "    )\n",
        "    ranking: int = field(\n",
        "        metadata={\n",
        "            \"desc\": \"Billboard peak ranking from 1 to 200\",\n",
        "            \"min\": 1,\n",
        "            \"max\": 200\n",
        "        }\n",
        "    )\n",
        "    streaming: Dict[str, int] = field(\n",
        "        default_factory=list,\n",
        "        metadata={\"desc\": \"Dict of lastest approximate streaming count in spotify and in youtube. Gives the count in millions\"}\n",
        "    )\n",
        "    pros: List[str] = field(\n",
        "        default_factory=list,\n",
        "        metadata={\"desc\": \"List of positive points about the song\"}\n",
        "    )\n",
        "    cons: List[str] = field(\n",
        "        default_factory=list,\n",
        "        metadata={\"desc\": \"List of negative points about the song\"}\n",
        "    )\n",
        "\n",
        "    __output_fields__ = [\"title\", \"rating\", \"streaming\", \"pros\", \"cons\"]\n"
      ],
      "metadata": {
        "id": "7g9bUa0q-B6Y"
      },
      "execution_count": null,
      "outputs": []
    },
    {
      "cell_type": "code",
      "source": [
        "\n",
        "@dataclass\n",
        "class Artist(adal.DataClass):\n",
        "    name: str = field(metadata={\"desc\": \"Artist's full name\"})\n",
        "    role: str = field(metadata={\"desc\": \"Artist's role in the song\"})"
      ],
      "metadata": {
        "id": "UGhMRZht-HiB"
      },
      "execution_count": null,
      "outputs": []
    },
    {
      "cell_type": "code",
      "source": [
        "# 2. Nested DataClass example\n",
        "\n",
        "@dataclass\n",
        "class DetailedSongReview(adal.DataClass):\n",
        "    basic_review: SongReview = field(\n",
        "        default=SongReview, metadata={\"desc\": \"basic Song review details\"}\n",
        "    )\n",
        "    cast: List[Artist] = field(\n",
        "        default_factory=list,\n",
        "        metadata={\"desc\": \"List of main singer, lyrisist and musicians in the song\"}\n",
        "    )\n",
        "    genre: List[str] = field(\n",
        "        default_factory=list,\n",
        "        metadata={\"desc\": \"List of genres for the song\"}\n",
        "    )\n",
        "    recommend: bool = field(\n",
        "        default_factory=str,\n",
        "        metadata={\"desc\": \"Whether you would recommend this song\"}\n",
        "    )\n",
        "\n",
        "    __output_fields__ = [\"basic_review\", \"cast\", \"genre\", \"recommend\"]"
      ],
      "metadata": {
        "id": "sfNWgPYN-JAj"
      },
      "execution_count": null,
      "outputs": []
    },
    {
      "cell_type": "code",
      "source": [
        "# 3. DataClass with optional fields\n",
        "@dataclass\n",
        "class SongAnalysis(adal.DataClass):\n",
        "    review: DetailedSongReview = field(\n",
        "        default=DetailedSongReview, metadata={\"desc\": \"Song review details\"}\n",
        "    )\n",
        "    duration: Optional[float] = field(\n",
        "        default=float,\n",
        "        metadata={\"desc\": \"Duration of the song\"}\n",
        "    )\n",
        "    awards: Optional[Dict[str, int]] = field(\n",
        "        default=Dict[str, int],\n",
        "        metadata={\"desc\": \"Dictionary of award categories and number of wins\"}\n",
        "    )\n",
        "\n",
        "    __output_fields__ = [\"review\", \"duration\", \"awards\"]"
      ],
      "metadata": {
        "id": "HG8rtCd8-K7t"
      },
      "execution_count": null,
      "outputs": []
    },
    {
      "cell_type": "code",
      "source": [
        "# Example template for song review\n",
        "song_review_template = r\"\"\"<SYS>\n",
        "You are a professional song critic. Analyze the given song and provide a detailed review.\n",
        "<OUTPUT_FORMAT>\n",
        "{{output_format_str}}\n",
        "</OUTPUT_FORMAT>\n",
        "</SYS>\n",
        "User: Review this song: {{song_title}}\"\"\"\n"
      ],
      "metadata": {
        "id": "v3mNeyz7-MpY"
      },
      "execution_count": null,
      "outputs": []
    },
    {
      "cell_type": "code",
      "source": [
        "# Create the SongReviewer component with SongAnalysis data class\n",
        "class SongReviewer(adal.Component):\n",
        "    def __init__(self, model_client: adal.ModelClient, model_kwargs: Dict):\n",
        "        super().__init__()\n",
        "        self.additional_structure_prompt = \"Dont use 'type' and 'properties' in output directly give as dict\"\n",
        "        parser = adal.DataClassParser(\n",
        "            data_class=SongAnalysis,\n",
        "            return_data_class=False,\n",
        "            format_type=\"json\"\n",
        "        )\n",
        "        self.generator = adal.Generator(\n",
        "            model_client=model_client,\n",
        "            model_kwargs=model_kwargs,\n",
        "            template=song_review_template,\n",
        "            prompt_kwargs={\"output_format_str\": parser.get_output_format_str() + self.additional_structure_prompt },\n",
        "            output_processors=parser,\n",
        "        )\n",
        "\n",
        "    def call(self, song_title: str):\n",
        "        return self.generator.call({\"song_title\": song_title})"
      ],
      "metadata": {
        "id": "X2eifXOU-OrE"
      },
      "execution_count": null,
      "outputs": []
    },
    {
      "cell_type": "code",
      "source": [
        "# Use SongReviewer Class for QA\n",
        "def run_song_analysis_example():\n",
        "    reviewer = SongReviewer(\n",
        "        model_client=GroqAPIClient(),\n",
        "        model_kwargs={\"model\": \"llama3-8b-8192\"},\n",
        "    )\n",
        "\n",
        "    # Get a movie review\n",
        "    analysis = reviewer.call(\"A Thousand Years\")\n",
        "    print(analysis)\n",
        "    # Access nested data\n",
        "    print(f\"Song Title: {analysis.data['review']['basic_review']['title']}\")\n",
        "    print(f\"Album: {analysis.data['review']['basic_review']['album']}\")\n",
        "    print(f\"Ranking: {analysis.data['review']['basic_review']['ranking']}\")\n",
        "\n",
        "    for platform, views in analysis.data['review']['basic_review']['streaming'].items():\n",
        "        print(f\"- {platform} - {views} million views\")\n",
        "    print(\"\\nPros:\")\n",
        "    for pro in analysis.data['review'][\"basic_review\"][\"pros\"]:\n",
        "        print(f\"- {pro}\")\n",
        "\n",
        "    print(\"\\nArtist's:\")\n",
        "    for actor in analysis.data['review'][\"cast\"]:\n",
        "            print(f\"- {actor['name']} as {actor['role']}\")\n",
        "\n",
        "    if analysis.data['review']['genre']:\n",
        "        print(f\"\\nGenere:  \")\n",
        "        for genre in analysis.data['review']['genre']:\n",
        "            print(f\" {genre} \")\n",
        "\n",
        "    if analysis.data['duration']:\n",
        "        print(f\"\\nDuration: {analysis.data['duration']} minutes\")\n",
        "\n",
        "    if analysis.data['awards']:\n",
        "        print(\"\\nAwards:\")\n",
        "        for category, count in analysis.data['awards'].items():\n",
        "            print(f\"- {category}: {count}\")"
      ],
      "metadata": {
        "id": "2A0j3Ra1_rkH"
      },
      "execution_count": null,
      "outputs": []
    },
    {
      "cell_type": "code",
      "source": [
        "run_song_analysis_example()"
      ],
      "metadata": {
        "colab": {
          "base_uri": "https://localhost:8080/"
        },
        "id": "eGzZYj0F_tf3",
        "outputId": "b4e07bf9-a14f-4b75-b3bb-e161a4091c3a"
      },
      "execution_count": null,
      "outputs": [
        {
          "output_type": "stream",
          "name": "stdout",
          "text": [
            "GeneratorOutput(id=None, data={'review': {'basic_review': {'title': 'A Thousand Years', 'album': 'The Twilight Saga: Breaking Dawn - Part 1', 'ranking': 17, 'streaming': {'spotify': 1.2, 'youtube': 1.5}, 'pros': ['timeless lyrics', 'catchy melody', 'beautiful violin solo'], 'cons': ['can be overplayed', 'some may find it cheesy']}, 'cast': [{'name': 'Christina Perri', 'role': 'lead vocals, songwriting'}], 'genre': ['pop', 'rock'], 'recommend': True}, 'duration': 4.45, 'awards': {'Teen Choice Awards': 1, 'MTV Video Music Awards': 1, \"People's Choice Awards\": 1}}, error=None, usage=CompletionUsage(completion_tokens=201, prompt_tokens=589, total_tokens=790), raw_response='```\\n{\\n    \"review\": {\\n        \"basic_review\": {\\n            \"title\": \"A Thousand Years\",\\n            \"album\": \"The Twilight Saga: Breaking Dawn - Part 1\",\\n            \"ranking\": 17,\\n            \"streaming\": {\"spotify\": 1.2, \"youtube\": 1.5},\\n            \"pros\": [\"timeless lyrics\", \"catchy melody\", \"beautiful violin solo\"],\\n            \"cons\": [\"can be overplayed\", \"some may find it cheesy\"]\\n        },\\n        \"cast\": [\\n            {\"name\": \"Christina Perri\", \"role\": \"lead vocals, songwriting\"}\\n        ],\\n        \"genre\": [\"pop\", \"rock\"],\\n        \"recommend\": true\\n    },\\n    \"duration\": 4.45,\\n    \"awards\": {\\n        \"Teen Choice Awards\": 1,\\n        \"MTV Video Music Awards\": 1,\\n        \"People\\'s Choice Awards\": 1\\n    }\\n}\\n```', metadata=None)\n",
            "Song Title: A Thousand Years\n",
            "Album: The Twilight Saga: Breaking Dawn - Part 1\n",
            "Ranking: 17\n",
            "- spotify - 1.2 million views\n",
            "- youtube - 1.5 million views\n",
            "\n",
            "Pros:\n",
            "- timeless lyrics\n",
            "- catchy melody\n",
            "- beautiful violin solo\n",
            "\n",
            "Artist's:\n",
            "- Christina Perri as lead vocals, songwriting\n",
            "\n",
            "Genere:  \n",
            " pop \n",
            " rock \n",
            "\n",
            "Duration: 4.45 minutes\n",
            "\n",
            "Awards:\n",
            "- Teen Choice Awards: 1\n",
            "- MTV Video Music Awards: 1\n",
            "- People's Choice Awards: 1\n"
          ]
        }
      ]
    },
    {
      "cell_type": "markdown",
      "source": [
        "# Issues and feedback\n",
        "\n",
        "If you encounter any issues, please report them here: [GitHub Issues](https://github.com/SylphAI-Inc/LightRAG/issues).\n",
        "\n",
        "For feedback, you can use either the [GitHub discussions](https://github.com/SylphAI-Inc/LightRAG/discussions) or [Discord](https://discord.gg/ezzszrRZvT)."
      ],
      "metadata": {
        "id": "BLAF5qTEmoyW"
      }
    }
  ]
}